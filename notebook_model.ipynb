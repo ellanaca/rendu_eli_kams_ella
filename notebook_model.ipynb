{
 "cells": [
  {
   "cell_type": "markdown",
   "id": "cf0102e0",
   "metadata": {},
   "source": [
    "# Contexte"
   ]
  },
  {
   "cell_type": "markdown",
   "id": "f57f3dad",
   "metadata": {},
   "source": [
    "Market Basket Analysis(Wordcloud):\n",
    "\n",
    "In the retail sector, this analysis is used to discover patterns and relationships within transactions and transaction items-sets (Items frequently bought together).\n",
    "\n",
    "IBM puts it as:\n",
    "“Market Basket Analysis is used to increase marketing effectiveness and to improve cross-sell and up-sell opportunities by making the right offer to the right customer. For a retailer, good promotions translate into increased revenue and profits. The objectives of the market basket analysis models are to identify the next product that the customer might be interested to purchase or to browse.”\n",
    "\n",
    "This explanation gives the intent of running the analysis: “to improve cross-sell and up-sell opportunities."
   ]
  },
  {
   "cell_type": "markdown",
   "id": "1afb023b",
   "metadata": {},
   "source": [
    "# Import"
   ]
  },
  {
   "cell_type": "code",
   "execution_count": 14,
   "id": "b9d99992",
   "metadata": {},
   "outputs": [],
   "source": [
    "import warnings\n",
    "warnings.filterwarnings('ignore')\n",
    "\n",
    "import pickle\n",
    "from IPython.display import clear_output"
   ]
  },
  {
   "cell_type": "code",
   "execution_count": 15,
   "id": "5db52249",
   "metadata": {},
   "outputs": [
    {
     "data": {
      "text/html": [
       "<div>\n",
       "<style scoped>\n",
       "    .dataframe tbody tr th:only-of-type {\n",
       "        vertical-align: middle;\n",
       "    }\n",
       "\n",
       "    .dataframe tbody tr th {\n",
       "        vertical-align: top;\n",
       "    }\n",
       "\n",
       "    .dataframe thead th {\n",
       "        text-align: right;\n",
       "    }\n",
       "</style>\n",
       "<table border=\"1\" class=\"dataframe\">\n",
       "  <thead>\n",
       "    <tr style=\"text-align: right;\">\n",
       "      <th></th>\n",
       "      <th>Unnamed: 0</th>\n",
       "      <th>InvoiceNo</th>\n",
       "      <th>StockCode</th>\n",
       "      <th>Description</th>\n",
       "      <th>Quantity</th>\n",
       "      <th>InvoiceDate</th>\n",
       "      <th>UnitPrice</th>\n",
       "      <th>CustomerID</th>\n",
       "      <th>Country</th>\n",
       "    </tr>\n",
       "  </thead>\n",
       "  <tbody>\n",
       "    <tr>\n",
       "      <th>0</th>\n",
       "      <td>0</td>\n",
       "      <td>536370</td>\n",
       "      <td>22728</td>\n",
       "      <td>ALARM CLOCK BAKELIKE PINK</td>\n",
       "      <td>24</td>\n",
       "      <td>2010-12-01 08:45:00</td>\n",
       "      <td>3.75</td>\n",
       "      <td>12583.0</td>\n",
       "      <td>France</td>\n",
       "    </tr>\n",
       "    <tr>\n",
       "      <th>1</th>\n",
       "      <td>1</td>\n",
       "      <td>536370</td>\n",
       "      <td>22727</td>\n",
       "      <td>ALARM CLOCK BAKELIKE RED</td>\n",
       "      <td>24</td>\n",
       "      <td>2010-12-01 08:45:00</td>\n",
       "      <td>3.75</td>\n",
       "      <td>12583.0</td>\n",
       "      <td>France</td>\n",
       "    </tr>\n",
       "    <tr>\n",
       "      <th>2</th>\n",
       "      <td>2</td>\n",
       "      <td>536370</td>\n",
       "      <td>22726</td>\n",
       "      <td>ALARM CLOCK BAKELIKE GREEN</td>\n",
       "      <td>12</td>\n",
       "      <td>2010-12-01 08:45:00</td>\n",
       "      <td>3.75</td>\n",
       "      <td>12583.0</td>\n",
       "      <td>France</td>\n",
       "    </tr>\n",
       "    <tr>\n",
       "      <th>3</th>\n",
       "      <td>3</td>\n",
       "      <td>536370</td>\n",
       "      <td>21724</td>\n",
       "      <td>PANDA AND BUNNIES STICKER SHEET</td>\n",
       "      <td>12</td>\n",
       "      <td>2010-12-01 08:45:00</td>\n",
       "      <td>0.85</td>\n",
       "      <td>12583.0</td>\n",
       "      <td>France</td>\n",
       "    </tr>\n",
       "    <tr>\n",
       "      <th>4</th>\n",
       "      <td>4</td>\n",
       "      <td>536370</td>\n",
       "      <td>21883</td>\n",
       "      <td>STARS GIFT TAPE</td>\n",
       "      <td>24</td>\n",
       "      <td>2010-12-01 08:45:00</td>\n",
       "      <td>0.65</td>\n",
       "      <td>12583.0</td>\n",
       "      <td>France</td>\n",
       "    </tr>\n",
       "  </tbody>\n",
       "</table>\n",
       "</div>"
      ],
      "text/plain": [
       "   Unnamed: 0  InvoiceNo StockCode                      Description  Quantity   \n",
       "0           0     536370     22728        ALARM CLOCK BAKELIKE PINK        24  \\\n",
       "1           1     536370     22727         ALARM CLOCK BAKELIKE RED        24   \n",
       "2           2     536370     22726       ALARM CLOCK BAKELIKE GREEN        12   \n",
       "3           3     536370     21724  PANDA AND BUNNIES STICKER SHEET        12   \n",
       "4           4     536370     21883                  STARS GIFT TAPE        24   \n",
       "\n",
       "           InvoiceDate  UnitPrice  CustomerID Country  \n",
       "0  2010-12-01 08:45:00       3.75     12583.0  France  \n",
       "1  2010-12-01 08:45:00       3.75     12583.0  France  \n",
       "2  2010-12-01 08:45:00       3.75     12583.0  France  \n",
       "3  2010-12-01 08:45:00       0.85     12583.0  France  \n",
       "4  2010-12-01 08:45:00       0.65     12583.0  France  "
      ]
     },
     "execution_count": 15,
     "metadata": {},
     "output_type": "execute_result"
    }
   ],
   "source": [
    "# First we need to install the following modules to get apriori algorithm and the word cloud outputs.Ignore if installed.\n",
    "#!pip install mlxtend(# For directly installing in jupyter nb)\n",
    "#!pip install wordcloud(# For directly installing in jupyter nb)\n",
    "# Importing required libraries\n",
    "import numpy as np\n",
    "import pandas as pd\n",
    "import matplotlib.pyplot as plt\n",
    "import seaborn as sns\n",
    "from mlxtend.frequent_patterns import apriori,association_rules\n",
    "# Loading the data\n",
    "data=pd.read_csv(\"base_sql_basket.csv\")\n",
    "# glimpse of the dataset\n",
    "data.head()"
   ]
  },
  {
   "cell_type": "code",
   "execution_count": 16,
   "id": "18684c86",
   "metadata": {},
   "outputs": [
    {
     "data": {
      "text/plain": [
       "Index(['Unnamed: 0', 'InvoiceNo', 'StockCode', 'Description', 'Quantity',\n",
       "       'InvoiceDate', 'UnitPrice', 'CustomerID', 'Country'],\n",
       "      dtype='object')"
      ]
     },
     "execution_count": 16,
     "metadata": {},
     "output_type": "execute_result"
    }
   ],
   "source": [
    "# Columns of the dataset\n",
    "data.columns"
   ]
  },
  {
   "cell_type": "code",
   "execution_count": 17,
   "id": "062ee446",
   "metadata": {},
   "outputs": [
    {
     "data": {
      "text/plain": [
       "(44553, 9)"
      ]
     },
     "execution_count": 17,
     "metadata": {},
     "output_type": "execute_result"
    }
   ],
   "source": [
    "# Shape of the data \n",
    "data.shape"
   ]
  },
  {
   "cell_type": "code",
   "execution_count": 18,
   "id": "70f06f0a",
   "metadata": {},
   "outputs": [
    {
     "name": "stdout",
     "output_type": "stream",
     "text": [
      "<class 'pandas.core.frame.DataFrame'>\n",
      "RangeIndex: 44553 entries, 0 to 44552\n",
      "Data columns (total 9 columns):\n",
      " #   Column       Non-Null Count  Dtype  \n",
      "---  ------       --------------  -----  \n",
      " 0   Unnamed: 0   44553 non-null  int64  \n",
      " 1   InvoiceNo    44553 non-null  int64  \n",
      " 2   StockCode    44553 non-null  object \n",
      " 3   Description  44553 non-null  object \n",
      " 4   Quantity     44553 non-null  int64  \n",
      " 5   InvoiceDate  44553 non-null  object \n",
      " 6   UnitPrice    44553 non-null  float64\n",
      " 7   CustomerID   43335 non-null  float64\n",
      " 8   Country      44553 non-null  object \n",
      "dtypes: float64(2), int64(3), object(4)\n",
      "memory usage: 3.1+ MB\n"
     ]
    }
   ],
   "source": [
    "# Information of the dataset\n",
    "data.info()"
   ]
  },
  {
   "cell_type": "code",
   "execution_count": 19,
   "id": "563a7f65",
   "metadata": {},
   "outputs": [
    {
     "data": {
      "text/plain": [
       "Unnamed: 0        0\n",
       "InvoiceNo         0\n",
       "StockCode         0\n",
       "Description       0\n",
       "Quantity          0\n",
       "InvoiceDate       0\n",
       "UnitPrice         0\n",
       "CustomerID     1218\n",
       "Country           0\n",
       "dtype: int64"
      ]
     },
     "execution_count": 19,
     "metadata": {},
     "output_type": "execute_result"
    }
   ],
   "source": [
    "# Missing values count\n",
    "data.isna().sum()"
   ]
  },
  {
   "cell_type": "code",
   "execution_count": 20,
   "id": "af4cfb13",
   "metadata": {},
   "outputs": [
    {
     "data": {
      "text/plain": [
       "array(['France', 'Australia', 'Netherlands', 'Germany', 'Norway', 'EIRE',\n",
       "       'Switzerland', 'Spain', 'Poland', 'Portugal', 'Italy', 'Belgium',\n",
       "       'Lithuania', 'Japan', 'Iceland', 'Channel Islands', 'Denmark',\n",
       "       'Cyprus', 'Sweden', 'Finland', 'Austria', 'Bahrain', 'Israel',\n",
       "       'Greece', 'Hong Kong', 'Singapore', 'Lebanon',\n",
       "       'United Arab Emirates', 'Saudi Arabia', 'Czech Republic', 'Canada',\n",
       "       'Brazil', 'USA', 'European Community', 'Malta', 'RSA'],\n",
       "      dtype=object)"
      ]
     },
     "execution_count": 20,
     "metadata": {},
     "output_type": "execute_result"
    }
   ],
   "source": [
    "# Exploring the different unique countries of transactions\n",
    "data.Country.unique()"
   ]
  },
  {
   "cell_type": "code",
   "execution_count": 21,
   "id": "0af2e316",
   "metadata": {},
   "outputs": [
    {
     "name": "stdout",
     "output_type": "stream",
     "text": [
      "There are 36 number of unique countries.\n"
     ]
    }
   ],
   "source": [
    "# Checking different number of unique countries present in this dataset\n",
    "x = data['Country'].nunique()\n",
    "print(\"There are {} number of unique countries.\".format(x))"
   ]
  },
  {
   "cell_type": "code",
   "execution_count": 22,
   "id": "487091af",
   "metadata": {},
   "outputs": [
    {
     "name": "stdout",
     "output_type": "stream",
     "text": [
      "There are a total of 1929 unique transactions.\n"
     ]
    }
   ],
   "source": [
    "# Total number of unique transactions\n",
    "a=len(data['InvoiceNo'].unique())\n",
    "print(\"There are a total of {} unique transactions.\".format(a))"
   ]
  },
  {
   "cell_type": "code",
   "execution_count": 23,
   "id": "f71e4972",
   "metadata": {},
   "outputs": [
    {
     "name": "stdout",
     "output_type": "stream",
     "text": [
      "There are 414 number of different customers.\n"
     ]
    }
   ],
   "source": [
    "# checking how many unique customer IDs are there\n",
    "b = data['CustomerID'].nunique()\n",
    "print(\"There are {} number of different customers.\".format(b))"
   ]
  },
  {
   "cell_type": "markdown",
   "id": "bd945b15",
   "metadata": {},
   "source": [
    "# Cleaning the data"
   ]
  },
  {
   "cell_type": "code",
   "execution_count": 24,
   "id": "93e22f0c",
   "metadata": {},
   "outputs": [
    {
     "data": {
      "text/plain": [
       "(44553, 8)"
      ]
     },
     "execution_count": 24,
     "metadata": {},
     "output_type": "execute_result"
    }
   ],
   "source": [
    "# Removing the extra spaces in the description column using strip()\n",
    "data['Description'] = data['Description'].str.strip()\n",
    "# Changing the type of invoice_no to string to help in removing the transactions cancelled/done on credit\n",
    "data['InvoiceNo'] = data['InvoiceNo'].astype('str')\n",
    "# Dropping all transactions which were cancelled/done on credit \n",
    "data = data[~data['InvoiceNo'].str.contains('C')]\n",
    "data = data.drop(columns= \"Unnamed: 0\")\n",
    "# Checking the shape of the data after removing the transactions which were cancelled\n",
    "data.shape"
   ]
  },
  {
   "cell_type": "markdown",
   "id": "4621fa59",
   "metadata": {},
   "source": [
    "# One-hot Encoding"
   ]
  },
  {
   "cell_type": "code",
   "execution_count": 25,
   "id": "ae7af9a4",
   "metadata": {},
   "outputs": [],
   "source": [
    "# Defining the hot encoding function to make the data suitable for the concerned libraries \n",
    "def hot_encode(x): \n",
    "    if(x<= 0): \n",
    "        return 0\n",
    "    if(x>= 1): \n",
    "        return 1"
   ]
  },
  {
   "cell_type": "markdown",
   "id": "5b027702",
   "metadata": {},
   "source": [
    "# Preparing the data for modelisation"
   ]
  },
  {
   "cell_type": "code",
   "execution_count": 26,
   "id": "81252c39",
   "metadata": {},
   "outputs": [],
   "source": [
    "good_countries =[\"France\", \"Netherlands\", \"Germany\", \"EIRE\", \"Spain\"\n",
    "                ,\"Portugal\", \"Belgium\", \"Sweden\", \"Finland\", \"Bahrain\", \"Saudi Arabia\"]"
   ]
  },
  {
   "cell_type": "code",
   "execution_count": 27,
   "id": "0475bfd9",
   "metadata": {},
   "outputs": [],
   "source": [
    "#basket per country\n",
    "basket_pays = {}\n",
    "for i in good_countries:\n",
    "    basket_country = (data[data['Country'] == f'{i}']\n",
    "              .groupby(['InvoiceNo', 'Description'])['Quantity']\n",
    "              .sum().unstack().reset_index().fillna(0)\n",
    "              .set_index('InvoiceNo'))\n",
    "    basket_encoded = basket_country.applymap(hot_encode)\n",
    "    basket_pays[i] = basket_encoded"
   ]
  },
  {
   "cell_type": "markdown",
   "id": "d4790fd8",
   "metadata": {},
   "source": [
    "# Building the models and analyzing the results:"
   ]
  },
  {
   "cell_type": "code",
   "execution_count": 28,
   "id": "b482c1f5",
   "metadata": {},
   "outputs": [],
   "source": [
    "basket_rules = {}\n",
    "for i in good_countries:\n",
    "    frq_items = apriori(basket_pays.get(i), min_support = 0.05, use_colnames = True) \n",
    "\n",
    "    # Collecting the inferred rules in a dataframe \n",
    "    rules = association_rules(frq_items, metric =\"lift\", min_threshold = 1) \n",
    "    rules = rules.sort_values(['confidence', 'lift'], ascending =[False, False]) \n",
    "    basket_rules[i] = rules"
   ]
  },
  {
   "cell_type": "code",
   "execution_count": 29,
   "id": "948a7c18",
   "metadata": {
    "scrolled": true
   },
   "outputs": [
    {
     "data": {
      "text/plain": [
       "dict_keys(['France', 'Netherlands', 'Germany', 'EIRE', 'Spain', 'Portugal', 'Belgium', 'Sweden', 'Finland', 'Bahrain', 'Saudi Arabia'])"
      ]
     },
     "execution_count": 29,
     "metadata": {},
     "output_type": "execute_result"
    }
   ],
   "source": [
    "basket_rules.keys()"
   ]
  },
  {
   "cell_type": "code",
   "execution_count": 30,
   "id": "fcd73a05",
   "metadata": {},
   "outputs": [],
   "source": [
    "pickle.dump(basket_rules, open(\"basket_rules.pkl\", \"wb\"))"
   ]
  },
  {
   "cell_type": "code",
   "execution_count": 31,
   "id": "fdf49ed8",
   "metadata": {},
   "outputs": [
    {
     "data": {
      "text/html": [
       "<div>\n",
       "<style scoped>\n",
       "    .dataframe tbody tr th:only-of-type {\n",
       "        vertical-align: middle;\n",
       "    }\n",
       "\n",
       "    .dataframe tbody tr th {\n",
       "        vertical-align: top;\n",
       "    }\n",
       "\n",
       "    .dataframe thead th {\n",
       "        text-align: right;\n",
       "    }\n",
       "</style>\n",
       "<table border=\"1\" class=\"dataframe\">\n",
       "  <thead>\n",
       "    <tr style=\"text-align: right;\">\n",
       "      <th></th>\n",
       "      <th>antecedents</th>\n",
       "      <th>consequents</th>\n",
       "      <th>antecedent support</th>\n",
       "      <th>consequent support</th>\n",
       "      <th>support</th>\n",
       "      <th>confidence</th>\n",
       "      <th>lift</th>\n",
       "      <th>leverage</th>\n",
       "      <th>conviction</th>\n",
       "      <th>zhangs_metric</th>\n",
       "    </tr>\n",
       "  </thead>\n",
       "  <tbody>\n",
       "    <tr>\n",
       "      <th>45</th>\n",
       "      <td>(JUMBO BAG WOODLAND ANIMALS)</td>\n",
       "      <td>(POSTAGE)</td>\n",
       "      <td>0.076531</td>\n",
       "      <td>0.765306</td>\n",
       "      <td>0.076531</td>\n",
       "      <td>1.000000</td>\n",
       "      <td>1.306667</td>\n",
       "      <td>0.017961</td>\n",
       "      <td>inf</td>\n",
       "      <td>0.254144</td>\n",
       "    </tr>\n",
       "    <tr>\n",
       "      <th>258</th>\n",
       "      <td>(PLASTERS IN TIN CIRCUS PARADE, RED TOADSTOOL ...</td>\n",
       "      <td>(POSTAGE)</td>\n",
       "      <td>0.051020</td>\n",
       "      <td>0.765306</td>\n",
       "      <td>0.051020</td>\n",
       "      <td>1.000000</td>\n",
       "      <td>1.306667</td>\n",
       "      <td>0.011974</td>\n",
       "      <td>inf</td>\n",
       "      <td>0.247312</td>\n",
       "    </tr>\n",
       "    <tr>\n",
       "      <th>271</th>\n",
       "      <td>(RED TOADSTOOL LED NIGHT LIGHT, PLASTERS IN TI...</td>\n",
       "      <td>(POSTAGE)</td>\n",
       "      <td>0.053571</td>\n",
       "      <td>0.765306</td>\n",
       "      <td>0.053571</td>\n",
       "      <td>1.000000</td>\n",
       "      <td>1.306667</td>\n",
       "      <td>0.012573</td>\n",
       "      <td>inf</td>\n",
       "      <td>0.247978</td>\n",
       "    </tr>\n",
       "    <tr>\n",
       "      <th>300</th>\n",
       "      <td>(SET/20 RED RETROSPOT PAPER NAPKINS, SET/6 RED...</td>\n",
       "      <td>(SET/6 RED SPOTTY PAPER PLATES)</td>\n",
       "      <td>0.102041</td>\n",
       "      <td>0.127551</td>\n",
       "      <td>0.099490</td>\n",
       "      <td>0.975000</td>\n",
       "      <td>7.644000</td>\n",
       "      <td>0.086474</td>\n",
       "      <td>34.897959</td>\n",
       "      <td>0.967949</td>\n",
       "    </tr>\n",
       "    <tr>\n",
       "      <th>301</th>\n",
       "      <td>(SET/20 RED RETROSPOT PAPER NAPKINS, SET/6 RED...</td>\n",
       "      <td>(SET/6 RED SPOTTY PAPER CUPS)</td>\n",
       "      <td>0.102041</td>\n",
       "      <td>0.137755</td>\n",
       "      <td>0.099490</td>\n",
       "      <td>0.975000</td>\n",
       "      <td>7.077778</td>\n",
       "      <td>0.085433</td>\n",
       "      <td>34.489796</td>\n",
       "      <td>0.956294</td>\n",
       "    </tr>\n",
       "    <tr>\n",
       "      <th>334</th>\n",
       "      <td>(SET/20 RED RETROSPOT PAPER NAPKINS, SET/6 RED...</td>\n",
       "      <td>(SET/6 RED SPOTTY PAPER PLATES)</td>\n",
       "      <td>0.084184</td>\n",
       "      <td>0.127551</td>\n",
       "      <td>0.081633</td>\n",
       "      <td>0.969697</td>\n",
       "      <td>7.602424</td>\n",
       "      <td>0.070895</td>\n",
       "      <td>28.790816</td>\n",
       "      <td>0.948294</td>\n",
       "    </tr>\n",
       "    <tr>\n",
       "      <th>336</th>\n",
       "      <td>(SET/20 RED RETROSPOT PAPER NAPKINS, POSTAGE, ...</td>\n",
       "      <td>(SET/6 RED SPOTTY PAPER CUPS)</td>\n",
       "      <td>0.084184</td>\n",
       "      <td>0.137755</td>\n",
       "      <td>0.081633</td>\n",
       "      <td>0.969697</td>\n",
       "      <td>7.039282</td>\n",
       "      <td>0.070036</td>\n",
       "      <td>28.454082</td>\n",
       "      <td>0.936804</td>\n",
       "    </tr>\n",
       "    <tr>\n",
       "      <th>128</th>\n",
       "      <td>(RED RETROSPOT PICNIC BAG)</td>\n",
       "      <td>(POSTAGE)</td>\n",
       "      <td>0.071429</td>\n",
       "      <td>0.765306</td>\n",
       "      <td>0.068878</td>\n",
       "      <td>0.964286</td>\n",
       "      <td>1.260000</td>\n",
       "      <td>0.014213</td>\n",
       "      <td>6.571429</td>\n",
       "      <td>0.222222</td>\n",
       "    </tr>\n",
       "    <tr>\n",
       "      <th>143</th>\n",
       "      <td>(SET OF 9 BLACK SKULL BALLOONS)</td>\n",
       "      <td>(POSTAGE)</td>\n",
       "      <td>0.066327</td>\n",
       "      <td>0.765306</td>\n",
       "      <td>0.063776</td>\n",
       "      <td>0.961538</td>\n",
       "      <td>1.256410</td>\n",
       "      <td>0.013015</td>\n",
       "      <td>6.102041</td>\n",
       "      <td>0.218579</td>\n",
       "    </tr>\n",
       "    <tr>\n",
       "      <th>175</th>\n",
       "      <td>(SET/6 RED SPOTTY PAPER PLATES)</td>\n",
       "      <td>(SET/6 RED SPOTTY PAPER CUPS)</td>\n",
       "      <td>0.127551</td>\n",
       "      <td>0.137755</td>\n",
       "      <td>0.122449</td>\n",
       "      <td>0.960000</td>\n",
       "      <td>6.968889</td>\n",
       "      <td>0.104878</td>\n",
       "      <td>21.556122</td>\n",
       "      <td>0.981725</td>\n",
       "    </tr>\n",
       "  </tbody>\n",
       "</table>\n",
       "</div>"
      ],
      "text/plain": [
       "                                           antecedents   \n",
       "45                        (JUMBO BAG WOODLAND ANIMALS)  \\\n",
       "258  (PLASTERS IN TIN CIRCUS PARADE, RED TOADSTOOL ...   \n",
       "271  (RED TOADSTOOL LED NIGHT LIGHT, PLASTERS IN TI...   \n",
       "300  (SET/20 RED RETROSPOT PAPER NAPKINS, SET/6 RED...   \n",
       "301  (SET/20 RED RETROSPOT PAPER NAPKINS, SET/6 RED...   \n",
       "334  (SET/20 RED RETROSPOT PAPER NAPKINS, SET/6 RED...   \n",
       "336  (SET/20 RED RETROSPOT PAPER NAPKINS, POSTAGE, ...   \n",
       "128                         (RED RETROSPOT PICNIC BAG)   \n",
       "143                    (SET OF 9 BLACK SKULL BALLOONS)   \n",
       "175                    (SET/6 RED SPOTTY PAPER PLATES)   \n",
       "\n",
       "                         consequents  antecedent support  consequent support   \n",
       "45                         (POSTAGE)            0.076531            0.765306  \\\n",
       "258                        (POSTAGE)            0.051020            0.765306   \n",
       "271                        (POSTAGE)            0.053571            0.765306   \n",
       "300  (SET/6 RED SPOTTY PAPER PLATES)            0.102041            0.127551   \n",
       "301    (SET/6 RED SPOTTY PAPER CUPS)            0.102041            0.137755   \n",
       "334  (SET/6 RED SPOTTY PAPER PLATES)            0.084184            0.127551   \n",
       "336    (SET/6 RED SPOTTY PAPER CUPS)            0.084184            0.137755   \n",
       "128                        (POSTAGE)            0.071429            0.765306   \n",
       "143                        (POSTAGE)            0.066327            0.765306   \n",
       "175    (SET/6 RED SPOTTY PAPER CUPS)            0.127551            0.137755   \n",
       "\n",
       "      support  confidence      lift  leverage  conviction  zhangs_metric  \n",
       "45   0.076531    1.000000  1.306667  0.017961         inf       0.254144  \n",
       "258  0.051020    1.000000  1.306667  0.011974         inf       0.247312  \n",
       "271  0.053571    1.000000  1.306667  0.012573         inf       0.247978  \n",
       "300  0.099490    0.975000  7.644000  0.086474   34.897959       0.967949  \n",
       "301  0.099490    0.975000  7.077778  0.085433   34.489796       0.956294  \n",
       "334  0.081633    0.969697  7.602424  0.070895   28.790816       0.948294  \n",
       "336  0.081633    0.969697  7.039282  0.070036   28.454082       0.936804  \n",
       "128  0.068878    0.964286  1.260000  0.014213    6.571429       0.222222  \n",
       "143  0.063776    0.961538  1.256410  0.013015    6.102041       0.218579  \n",
       "175  0.122449    0.960000  6.968889  0.104878   21.556122       0.981725  "
      ]
     },
     "execution_count": 31,
     "metadata": {},
     "output_type": "execute_result"
    }
   ],
   "source": [
    "basket_rules.get(\"France\").head(10)"
   ]
  }
 ],
 "metadata": {
  "kernelspec": {
   "display_name": "Python 3 (ipykernel)",
   "language": "python",
   "name": "python3"
  },
  "language_info": {
   "codemirror_mode": {
    "name": "ipython",
    "version": 3
   },
   "file_extension": ".py",
   "mimetype": "text/x-python",
   "name": "python",
   "nbconvert_exporter": "python",
   "pygments_lexer": "ipython3",
   "version": "3.8.12"
  },
  "toc": {
   "base_numbering": 1,
   "nav_menu": {},
   "number_sections": true,
   "sideBar": true,
   "skip_h1_title": false,
   "title_cell": "Table of Contents",
   "title_sidebar": "Contents",
   "toc_cell": false,
   "toc_position": {},
   "toc_section_display": true,
   "toc_window_display": false
  }
 },
 "nbformat": 4,
 "nbformat_minor": 5
}
